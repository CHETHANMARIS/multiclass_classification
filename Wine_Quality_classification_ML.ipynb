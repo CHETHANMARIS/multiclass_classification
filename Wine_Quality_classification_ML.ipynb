{
  "nbformat": 4,
  "nbformat_minor": 0,
  "metadata": {
    "colab": {
      "name": "Wine_Quality_classification.ipynb",
      "provenance": [],
      "collapsed_sections": []
    },
    "kernelspec": {
      "name": "python3",
      "display_name": "Python 3"
    },
    "language_info": {
      "name": "python"
    },
    "accelerator": "GPU"
  },
  "cells": [
    {
      "cell_type": "code",
      "metadata": {
        "colab": {
          "base_uri": "https://localhost:8080/"
        },
        "id": "K4m8C6Pap2Si",
        "outputId": "8c523d3d-7dfc-4e73-a70e-d28e0e345dfa"
      },
      "source": [
        "from google.colab import drive\n",
        "drive.mount('/content/drive')"
      ],
      "execution_count": 1,
      "outputs": [
        {
          "output_type": "stream",
          "name": "stdout",
          "text": [
            "Drive already mounted at /content/drive; to attempt to forcibly remount, call drive.mount(\"/content/drive\", force_remount=True).\n"
          ]
        }
      ]
    },
    {
      "cell_type": "code",
      "metadata": {
        "id": "kPp-QuioqNof"
      },
      "source": [
        "import pandas as pd\n",
        "import numpy as np\n",
        "import seaborn as sns\n",
        "import matplotlib.pyplot as plt\n",
        "import scipy.stats as stats\n",
        "import warnings\n",
        "%matplotlib inline\n",
        "warnings.filterwarnings('ignore')"
      ],
      "execution_count": 2,
      "outputs": []
    },
    {
      "cell_type": "code",
      "metadata": {
        "colab": {
          "base_uri": "https://localhost:8080/",
          "height": 236
        },
        "id": "qRLWWWjjqNyx",
        "outputId": "19bf1cba-74f2-47ab-9664-284d1228b97c"
      },
      "source": [
        "df = pd.read_csv('//content//drive//MyDrive//Wine_Quality_classification//winequality-white_01.csv')\n",
        "df.head()"
      ],
      "execution_count": 3,
      "outputs": [
        {
          "output_type": "execute_result",
          "data": {
            "text/html": [
              "<div>\n",
              "<style scoped>\n",
              "    .dataframe tbody tr th:only-of-type {\n",
              "        vertical-align: middle;\n",
              "    }\n",
              "\n",
              "    .dataframe tbody tr th {\n",
              "        vertical-align: top;\n",
              "    }\n",
              "\n",
              "    .dataframe thead th {\n",
              "        text-align: right;\n",
              "    }\n",
              "</style>\n",
              "<table border=\"1\" class=\"dataframe\">\n",
              "  <thead>\n",
              "    <tr style=\"text-align: right;\">\n",
              "      <th></th>\n",
              "      <th>fixed acidity</th>\n",
              "      <th>volatile acidity</th>\n",
              "      <th>citric acid</th>\n",
              "      <th>residual sugar</th>\n",
              "      <th>chlorides</th>\n",
              "      <th>free sulfur dioxide</th>\n",
              "      <th>total sulfur dioxide</th>\n",
              "      <th>density</th>\n",
              "      <th>pH</th>\n",
              "      <th>sulphates</th>\n",
              "      <th>alcohol</th>\n",
              "      <th>quality</th>\n",
              "    </tr>\n",
              "  </thead>\n",
              "  <tbody>\n",
              "    <tr>\n",
              "      <th>0</th>\n",
              "      <td>7.0</td>\n",
              "      <td>0.27</td>\n",
              "      <td>0.36</td>\n",
              "      <td>20.7</td>\n",
              "      <td>0.045</td>\n",
              "      <td>45.0</td>\n",
              "      <td>170.0</td>\n",
              "      <td>1.0010</td>\n",
              "      <td>3.00</td>\n",
              "      <td>0.45</td>\n",
              "      <td>8.8</td>\n",
              "      <td>-0.5</td>\n",
              "    </tr>\n",
              "    <tr>\n",
              "      <th>1</th>\n",
              "      <td>6.3</td>\n",
              "      <td>0.30</td>\n",
              "      <td>0.34</td>\n",
              "      <td>1.6</td>\n",
              "      <td>0.049</td>\n",
              "      <td>14.0</td>\n",
              "      <td>132.0</td>\n",
              "      <td>0.9940</td>\n",
              "      <td>3.30</td>\n",
              "      <td>0.49</td>\n",
              "      <td>9.5</td>\n",
              "      <td>-0.5</td>\n",
              "    </tr>\n",
              "    <tr>\n",
              "      <th>2</th>\n",
              "      <td>8.1</td>\n",
              "      <td>0.28</td>\n",
              "      <td>0.40</td>\n",
              "      <td>6.9</td>\n",
              "      <td>0.050</td>\n",
              "      <td>30.0</td>\n",
              "      <td>97.0</td>\n",
              "      <td>0.9951</td>\n",
              "      <td>3.26</td>\n",
              "      <td>0.44</td>\n",
              "      <td>10.1</td>\n",
              "      <td>-0.5</td>\n",
              "    </tr>\n",
              "    <tr>\n",
              "      <th>3</th>\n",
              "      <td>7.2</td>\n",
              "      <td>0.23</td>\n",
              "      <td>0.32</td>\n",
              "      <td>8.5</td>\n",
              "      <td>0.058</td>\n",
              "      <td>47.0</td>\n",
              "      <td>186.0</td>\n",
              "      <td>0.9956</td>\n",
              "      <td>3.19</td>\n",
              "      <td>0.40</td>\n",
              "      <td>9.9</td>\n",
              "      <td>-0.5</td>\n",
              "    </tr>\n",
              "    <tr>\n",
              "      <th>4</th>\n",
              "      <td>7.2</td>\n",
              "      <td>0.23</td>\n",
              "      <td>0.32</td>\n",
              "      <td>8.5</td>\n",
              "      <td>0.058</td>\n",
              "      <td>47.0</td>\n",
              "      <td>186.0</td>\n",
              "      <td>0.9956</td>\n",
              "      <td>3.19</td>\n",
              "      <td>0.40</td>\n",
              "      <td>9.9</td>\n",
              "      <td>-0.5</td>\n",
              "    </tr>\n",
              "  </tbody>\n",
              "</table>\n",
              "</div>"
            ],
            "text/plain": [
              "   fixed acidity  volatile acidity  citric acid  ...  sulphates  alcohol  quality\n",
              "0            7.0              0.27         0.36  ...       0.45      8.8     -0.5\n",
              "1            6.3              0.30         0.34  ...       0.49      9.5     -0.5\n",
              "2            8.1              0.28         0.40  ...       0.44     10.1     -0.5\n",
              "3            7.2              0.23         0.32  ...       0.40      9.9     -0.5\n",
              "4            7.2              0.23         0.32  ...       0.40      9.9     -0.5\n",
              "\n",
              "[5 rows x 12 columns]"
            ]
          },
          "metadata": {},
          "execution_count": 3
        }
      ]
    },
    {
      "cell_type": "code",
      "metadata": {
        "colab": {
          "base_uri": "https://localhost:8080/"
        },
        "id": "rP8jtZHNBCcT",
        "outputId": "4bf3c53b-1df6-45a4-fbe4-9c1bf495b748"
      },
      "source": [
        "df.shape"
      ],
      "execution_count": 4,
      "outputs": [
        {
          "output_type": "execute_result",
          "data": {
            "text/plain": [
              "(9796, 12)"
            ]
          },
          "metadata": {},
          "execution_count": 4
        }
      ]
    },
    {
      "cell_type": "code",
      "metadata": {
        "colab": {
          "base_uri": "https://localhost:8080/",
          "height": 348
        },
        "id": "j12UmnX0qN6q",
        "outputId": "e20e08ac-4e3c-4d33-a331-ded9ad84eb98"
      },
      "source": [
        "# statistical info\n",
        "df.describe()"
      ],
      "execution_count": 5,
      "outputs": [
        {
          "output_type": "execute_result",
          "data": {
            "text/html": [
              "<div>\n",
              "<style scoped>\n",
              "    .dataframe tbody tr th:only-of-type {\n",
              "        vertical-align: middle;\n",
              "    }\n",
              "\n",
              "    .dataframe tbody tr th {\n",
              "        vertical-align: top;\n",
              "    }\n",
              "\n",
              "    .dataframe thead th {\n",
              "        text-align: right;\n",
              "    }\n",
              "</style>\n",
              "<table border=\"1\" class=\"dataframe\">\n",
              "  <thead>\n",
              "    <tr style=\"text-align: right;\">\n",
              "      <th></th>\n",
              "      <th>fixed acidity</th>\n",
              "      <th>volatile acidity</th>\n",
              "      <th>citric acid</th>\n",
              "      <th>residual sugar</th>\n",
              "      <th>chlorides</th>\n",
              "      <th>free sulfur dioxide</th>\n",
              "      <th>total sulfur dioxide</th>\n",
              "      <th>density</th>\n",
              "      <th>pH</th>\n",
              "      <th>sulphates</th>\n",
              "      <th>alcohol</th>\n",
              "      <th>quality</th>\n",
              "    </tr>\n",
              "  </thead>\n",
              "  <tbody>\n",
              "    <tr>\n",
              "      <th>count</th>\n",
              "      <td>9796.000000</td>\n",
              "      <td>9796.000000</td>\n",
              "      <td>9796.000000</td>\n",
              "      <td>9796.000000</td>\n",
              "      <td>9796.000000</td>\n",
              "      <td>9796.000000</td>\n",
              "      <td>9796.000000</td>\n",
              "      <td>9796.000000</td>\n",
              "      <td>9796.000000</td>\n",
              "      <td>9796.000000</td>\n",
              "      <td>9796.000000</td>\n",
              "      <td>9796.000000</td>\n",
              "    </tr>\n",
              "    <tr>\n",
              "      <th>mean</th>\n",
              "      <td>6.854788</td>\n",
              "      <td>0.278241</td>\n",
              "      <td>0.334192</td>\n",
              "      <td>6.391415</td>\n",
              "      <td>0.045772</td>\n",
              "      <td>35.308085</td>\n",
              "      <td>138.360657</td>\n",
              "      <td>0.994027</td>\n",
              "      <td>3.188267</td>\n",
              "      <td>0.489847</td>\n",
              "      <td>10.514267</td>\n",
              "      <td>-0.511668</td>\n",
              "    </tr>\n",
              "    <tr>\n",
              "      <th>std</th>\n",
              "      <td>0.843825</td>\n",
              "      <td>0.100789</td>\n",
              "      <td>0.121014</td>\n",
              "      <td>5.071799</td>\n",
              "      <td>0.021847</td>\n",
              "      <td>17.006269</td>\n",
              "      <td>42.495895</td>\n",
              "      <td>0.002991</td>\n",
              "      <td>0.150993</td>\n",
              "      <td>0.114120</td>\n",
              "      <td>1.230558</td>\n",
              "      <td>0.156080</td>\n",
              "    </tr>\n",
              "    <tr>\n",
              "      <th>min</th>\n",
              "      <td>3.800000</td>\n",
              "      <td>0.080000</td>\n",
              "      <td>0.000000</td>\n",
              "      <td>0.600000</td>\n",
              "      <td>0.009000</td>\n",
              "      <td>2.000000</td>\n",
              "      <td>9.000000</td>\n",
              "      <td>0.987110</td>\n",
              "      <td>2.720000</td>\n",
              "      <td>0.220000</td>\n",
              "      <td>8.000000</td>\n",
              "      <td>-0.900000</td>\n",
              "    </tr>\n",
              "    <tr>\n",
              "      <th>25%</th>\n",
              "      <td>6.300000</td>\n",
              "      <td>0.210000</td>\n",
              "      <td>0.270000</td>\n",
              "      <td>1.700000</td>\n",
              "      <td>0.036000</td>\n",
              "      <td>23.000000</td>\n",
              "      <td>108.000000</td>\n",
              "      <td>0.991720</td>\n",
              "      <td>3.090000</td>\n",
              "      <td>0.410000</td>\n",
              "      <td>9.500000</td>\n",
              "      <td>-0.600000</td>\n",
              "    </tr>\n",
              "    <tr>\n",
              "      <th>50%</th>\n",
              "      <td>6.800000</td>\n",
              "      <td>0.260000</td>\n",
              "      <td>0.320000</td>\n",
              "      <td>5.200000</td>\n",
              "      <td>0.043000</td>\n",
              "      <td>34.000000</td>\n",
              "      <td>134.000000</td>\n",
              "      <td>0.993740</td>\n",
              "      <td>3.180000</td>\n",
              "      <td>0.470000</td>\n",
              "      <td>10.400000</td>\n",
              "      <td>-0.500000</td>\n",
              "    </tr>\n",
              "    <tr>\n",
              "      <th>75%</th>\n",
              "      <td>7.300000</td>\n",
              "      <td>0.320000</td>\n",
              "      <td>0.390000</td>\n",
              "      <td>9.900000</td>\n",
              "      <td>0.050000</td>\n",
              "      <td>46.000000</td>\n",
              "      <td>167.000000</td>\n",
              "      <td>0.996100</td>\n",
              "      <td>3.280000</td>\n",
              "      <td>0.550000</td>\n",
              "      <td>11.400000</td>\n",
              "      <td>-0.400000</td>\n",
              "    </tr>\n",
              "    <tr>\n",
              "      <th>max</th>\n",
              "      <td>14.200000</td>\n",
              "      <td>1.100000</td>\n",
              "      <td>1.660000</td>\n",
              "      <td>65.800000</td>\n",
              "      <td>0.346000</td>\n",
              "      <td>289.000000</td>\n",
              "      <td>440.000000</td>\n",
              "      <td>1.038980</td>\n",
              "      <td>3.820000</td>\n",
              "      <td>1.080000</td>\n",
              "      <td>14.200000</td>\n",
              "      <td>-0.100000</td>\n",
              "    </tr>\n",
              "  </tbody>\n",
              "</table>\n",
              "</div>"
            ],
            "text/plain": [
              "       fixed acidity  volatile acidity  ...      alcohol      quality\n",
              "count    9796.000000       9796.000000  ...  9796.000000  9796.000000\n",
              "mean        6.854788          0.278241  ...    10.514267    -0.511668\n",
              "std         0.843825          0.100789  ...     1.230558     0.156080\n",
              "min         3.800000          0.080000  ...     8.000000    -0.900000\n",
              "25%         6.300000          0.210000  ...     9.500000    -0.600000\n",
              "50%         6.800000          0.260000  ...    10.400000    -0.500000\n",
              "75%         7.300000          0.320000  ...    11.400000    -0.400000\n",
              "max        14.200000          1.100000  ...    14.200000    -0.100000\n",
              "\n",
              "[8 rows x 12 columns]"
            ]
          },
          "metadata": {},
          "execution_count": 5
        }
      ]
    },
    {
      "cell_type": "code",
      "metadata": {
        "colab": {
          "base_uri": "https://localhost:8080/"
        },
        "id": "ZA8mureFqN-6",
        "outputId": "2309f40a-661e-47c8-cb15-3293c8a8bebf"
      },
      "source": [
        "# datatype info\n",
        "df.info()"
      ],
      "execution_count": 6,
      "outputs": [
        {
          "output_type": "stream",
          "name": "stdout",
          "text": [
            "<class 'pandas.core.frame.DataFrame'>\n",
            "RangeIndex: 9796 entries, 0 to 9795\n",
            "Data columns (total 12 columns):\n",
            " #   Column                Non-Null Count  Dtype  \n",
            "---  ------                --------------  -----  \n",
            " 0   fixed acidity         9796 non-null   float64\n",
            " 1   volatile acidity      9796 non-null   float64\n",
            " 2   citric acid           9796 non-null   float64\n",
            " 3   residual sugar        9796 non-null   float64\n",
            " 4   chlorides             9796 non-null   float64\n",
            " 5   free sulfur dioxide   9796 non-null   float64\n",
            " 6   total sulfur dioxide  9796 non-null   float64\n",
            " 7   density               9796 non-null   float64\n",
            " 8   pH                    9796 non-null   float64\n",
            " 9   sulphates             9796 non-null   float64\n",
            " 10  alcohol               9796 non-null   float64\n",
            " 11  quality               9796 non-null   float64\n",
            "dtypes: float64(12)\n",
            "memory usage: 918.5 KB\n"
          ]
        }
      ]
    },
    {
      "cell_type": "markdown",
      "metadata": {
        "id": "VdMJ-dQ_q_9V"
      },
      "source": [
        "## Preprocessing the dataset"
      ]
    },
    {
      "cell_type": "code",
      "metadata": {
        "colab": {
          "base_uri": "https://localhost:8080/"
        },
        "id": "BEDw_UWZqzsL",
        "outputId": "e679479c-8f6f-4752-8104-848045627912"
      },
      "source": [
        "# check for null values\n",
        "df.isnull().sum()"
      ],
      "execution_count": 7,
      "outputs": [
        {
          "output_type": "execute_result",
          "data": {
            "text/plain": [
              "fixed acidity           0\n",
              "volatile acidity        0\n",
              "citric acid             0\n",
              "residual sugar          0\n",
              "chlorides               0\n",
              "free sulfur dioxide     0\n",
              "total sulfur dioxide    0\n",
              "density                 0\n",
              "pH                      0\n",
              "sulphates               0\n",
              "alcohol                 0\n",
              "quality                 0\n",
              "dtype: int64"
            ]
          },
          "metadata": {},
          "execution_count": 7
        }
      ]
    },
    {
      "cell_type": "code",
      "metadata": {
        "colab": {
          "base_uri": "https://localhost:8080/"
        },
        "id": "XI9XZ89frCjx",
        "outputId": "7f29b261-db82-4c64-80eb-8c53d71357c1"
      },
      "source": [
        "df['quality'].unique()"
      ],
      "execution_count": 8,
      "outputs": [
        {
          "output_type": "execute_result",
          "data": {
            "text/plain": [
              "array([-0.5, -0.3, -0.7, -0.8, -0.2, -0.1, -0.9, -0.6, -0.4])"
            ]
          },
          "metadata": {},
          "execution_count": 8
        }
      ]
    },
    {
      "cell_type": "code",
      "metadata": {
        "colab": {
          "base_uri": "https://localhost:8080/",
          "height": 505
        },
        "id": "LqlQY9p_rCmc",
        "outputId": "f90dd57f-7783-466e-a854-5c0e8a3b3c5d"
      },
      "source": [
        "# create box plots\n",
        "fig, ax = plt.subplots(ncols=6, nrows=2, figsize=(20,10))\n",
        "index = 0\n",
        "ax = ax.flatten()\n",
        "\n",
        "for col, value in df.items():\n",
        "        sns.boxplot(y=col, data=df, ax=ax[index])\n",
        "        index += 1\n",
        "plt.tight_layout(pad=0.5, w_pad=0.7, h_pad=5.0)"
      ],
      "execution_count": 9,
      "outputs": [
        {
          "output_type": "display_data",
          "data": {
            "image/png": "[encoded data removed]",
            "text/plain": [
              "<Figure size 1440x720 with 12 Axes>"
            ]
          },
          "metadata": {
            "needs_background": "light"
          }
        }
      ]
    },
    {
      "cell_type": "code",
      "metadata": {
        "colab": {
          "base_uri": "https://localhost:8080/",
          "height": 507
        },
        "id": "jLzMS0gXrCpf",
        "outputId": "bb6c5750-f9a2-41c3-8734-d8b07d51cc29"
      },
      "source": [
        "# create dist plot\n",
        "fig, ax = plt.subplots(ncols=6, nrows=2, figsize=(20,10))\n",
        "index = 0\n",
        "ax = ax.flatten()\n",
        "\n",
        "for col, value in df.items():\n",
        "        sns.distplot(value, ax=ax[index])\n",
        "        index += 1\n",
        "plt.tight_layout(pad=0.5, w_pad=0.7, h_pad=5.0)"
      ],
      "execution_count": 10,
      "outputs": [
        {
          "output_type": "display_data",
          "data": {
            "image/png": "[encoded data removed]",
            "text/plain": [
              "<Figure size 1440x720 with 12 Axes>"
            ]
          },
          "metadata": {
            "needs_background": "light"
          }
        }
      ]
    },
    {
      "cell_type": "markdown",
      "metadata": {
        "id": "u8EcxvWi-eyF"
      },
      "source": [
        "##corelation matrix"
      ]
    },
    {
      "cell_type": "code",
      "metadata": {
        "colab": {
          "base_uri": "https://localhost:8080/",
          "height": 609
        },
        "id": "DxLBroH1tmpX",
        "outputId": "c35b7f88-80dd-4be0-a5f1-729fd05b5b65"
      },
      "source": [
        "corr = df.corr()\n",
        "plt.figure(figsize=(20,10))\n",
        "sns.heatmap(corr, annot=True, cmap='coolwarm')"
      ],
      "execution_count": 11,
      "outputs": [
        {
          "output_type": "execute_result",
          "data": {
            "text/plain": [
              "<matplotlib.axes._subplots.AxesSubplot at 0x7f8190ba1f10>"
            ]
          },
          "metadata": {},
          "execution_count": 11
        },
        {
          "output_type": "display_data",
          "data": {
            "image/png": "[encoded data removed]",
            "text/plain": [
              "<Figure size 1440x720 with 2 Axes>"
            ]
          },
          "metadata": {
            "needs_background": "light"
          }
        }
      ]
    },
    {
      "cell_type": "code",
      "metadata": {
        "colab": {
          "base_uri": "https://localhost:8080/",
          "height": 296
        },
        "id": "o-MXMxfGBe9S",
        "outputId": "8ec57d04-26cd-47ce-8bbd-dacf7828d61e"
      },
      "source": [
        "sns.countplot(df['quality'])"
      ],
      "execution_count": 12,
      "outputs": [
        {
          "output_type": "execute_result",
          "data": {
            "text/plain": [
              "<matplotlib.axes._subplots.AxesSubplot at 0x7f819d7a5350>"
            ]
          },
          "metadata": {},
          "execution_count": 12
        },
        {
          "output_type": "display_data",
          "data": {
            "image/png": "[encoded data removed]",
            "text/plain": [
              "<Figure size 432x288 with 1 Axes>"
            ]
          },
          "metadata": {
            "needs_background": "light"
          }
        }
      ]
    },
    {
      "cell_type": "code",
      "metadata": {
        "colab": {
          "base_uri": "https://localhost:8080/"
        },
        "id": "ixakkGKHFNAr",
        "outputId": "75923568-2de6-45f3-be1d-971f9912f3f1"
      },
      "source": [
        "#count of each target variable\n",
        "from collections import Counter\n",
        "Counter(df['quality'])"
      ],
      "execution_count": 13,
      "outputs": [
        {
          "output_type": "execute_result",
          "data": {
            "text/plain": [
              "Counter({-0.9: 10,\n",
              "         -0.8: 350,\n",
              "         -0.7: 1760,\n",
              "         -0.6: 2228,\n",
              "         -0.5: 2168,\n",
              "         -0.4: 1271,\n",
              "         -0.3: 1643,\n",
              "         -0.2: 326,\n",
              "         -0.1: 40})"
            ]
          },
          "metadata": {},
          "execution_count": 13
        }
      ]
    },
    {
      "cell_type": "markdown",
      "metadata": {
        "id": "ZxCeVWuD-np4"
      },
      "source": [
        "## Input Split"
      ]
    },
    {
      "cell_type": "code",
      "metadata": {
        "id": "7Yn-9mcM-Qso"
      },
      "source": [
        "X = df.drop(columns=['quality']).values\n",
        "y = df['quality']"
      ],
      "execution_count": 14,
      "outputs": []
    },
    {
      "cell_type": "code",
      "metadata": {
        "id": "O4tYTEaxEfWv"
      },
      "source": [
        "#next we shall create a new column called Review. This column will contain the values of 1,2, and 3. \n",
        "#1 - Bad\n",
        "#2 - Average\n",
        "#3 - Excellent\n",
        "#This will be split in the following way. \n",
        "#1,2,3 --> Bad\n",
        "#4,5,6,7 --> Average\n",
        "#8,9,10 --> Excellent\n",
        "#Create an empty list called Reviews\n",
        "reviews = []\n",
        "for i in df['quality']:\n",
        "    if i >= -0.3 and i <= -0.1:\n",
        "        reviews.append('1')\n",
        "    elif i >= -0.6 and i <= -0.4:\n",
        "        reviews.append('2')\n",
        "    elif i >= -0.9 and i <= -0.7:\n",
        "        reviews.append('3')\n",
        "df['Reviews'] = reviews"
      ],
      "execution_count": 15,
      "outputs": []
    },
    {
      "cell_type": "code",
      "metadata": {
        "colab": {
          "base_uri": "https://localhost:8080/"
        },
        "id": "dYxfm0AqExZn",
        "outputId": "cc43d10e-be67-416d-e0f0-33564ba0bbef"
      },
      "source": [
        "#view final data\n",
        "df.columns"
      ],
      "execution_count": 16,
      "outputs": [
        {
          "output_type": "execute_result",
          "data": {
            "text/plain": [
              "Index(['fixed acidity', 'volatile acidity', 'citric acid', 'residual sugar',\n",
              "       'chlorides', 'free sulfur dioxide', 'total sulfur dioxide', 'density',\n",
              "       'pH', 'sulphates', 'alcohol', 'quality', 'Reviews'],\n",
              "      dtype='object')"
            ]
          },
          "metadata": {},
          "execution_count": 16
        }
      ]
    },
    {
      "cell_type": "code",
      "metadata": {
        "colab": {
          "base_uri": "https://localhost:8080/"
        },
        "id": "qjMUs0N0E2fN",
        "outputId": "26cb4b94-4730-4fa1-a35b-c036bca92ffc"
      },
      "source": [
        "df['Reviews'].unique()"
      ],
      "execution_count": 17,
      "outputs": [
        {
          "output_type": "execute_result",
          "data": {
            "text/plain": [
              "array(['2', '1', '3'], dtype=object)"
            ]
          },
          "metadata": {},
          "execution_count": 17
        }
      ]
    },
    {
      "cell_type": "code",
      "metadata": {
        "colab": {
          "base_uri": "https://localhost:8080/"
        },
        "id": "qpd6cEddFBF5",
        "outputId": "e00b0e30-fb48-4594-be97-0062671d6655"
      },
      "source": [
        "Counter(df['Reviews'])"
      ],
      "execution_count": 18,
      "outputs": [
        {
          "output_type": "execute_result",
          "data": {
            "text/plain": [
              "Counter({'1': 2009, '2': 5667, '3': 2120})"
            ]
          },
          "metadata": {},
          "execution_count": 18
        }
      ]
    },
    {
      "cell_type": "code",
      "metadata": {
        "id": "gJZsCDQAFY3b"
      },
      "source": [
        "x = df.iloc[:,:11]\n",
        "y = df['Reviews']"
      ],
      "execution_count": 19,
      "outputs": []
    },
    {
      "cell_type": "code",
      "metadata": {
        "colab": {
          "base_uri": "https://localhost:8080/",
          "height": 373
        },
        "id": "KMuRKYd4FZTY",
        "outputId": "c676d5ed-9834-4c6f-fa8b-86c20c64bd80"
      },
      "source": [
        "x.head(10)"
      ],
      "execution_count": 20,
      "outputs": [
        {
          "output_type": "execute_result",
          "data": {
            "text/html": [
              "<div>\n",
              "<style scoped>\n",
              "    .dataframe tbody tr th:only-of-type {\n",
              "        vertical-align: middle;\n",
              "    }\n",
              "\n",
              "    .dataframe tbody tr th {\n",
              "        vertical-align: top;\n",
              "    }\n",
              "\n",
              "    .dataframe thead th {\n",
              "        text-align: right;\n",
              "    }\n",
              "</style>\n",
              "<table border=\"1\" class=\"dataframe\">\n",
              "  <thead>\n",
              "    <tr style=\"text-align: right;\">\n",
              "      <th></th>\n",
              "      <th>fixed acidity</th>\n",
              "      <th>volatile acidity</th>\n",
              "      <th>citric acid</th>\n",
              "      <th>residual sugar</th>\n",
              "      <th>chlorides</th>\n",
              "      <th>free sulfur dioxide</th>\n",
              "      <th>total sulfur dioxide</th>\n",
              "      <th>density</th>\n",
              "      <th>pH</th>\n",
              "      <th>sulphates</th>\n",
              "      <th>alcohol</th>\n",
              "    </tr>\n",
              "  </thead>\n",
              "  <tbody>\n",
              "    <tr>\n",
              "      <th>0</th>\n",
              "      <td>7.0</td>\n",
              "      <td>0.27</td>\n",
              "      <td>0.36</td>\n",
              "      <td>20.7</td>\n",
              "      <td>0.045</td>\n",
              "      <td>45.0</td>\n",
              "      <td>170.0</td>\n",
              "      <td>1.0010</td>\n",
              "      <td>3.00</td>\n",
              "      <td>0.45</td>\n",
              "      <td>8.8</td>\n",
              "    </tr>\n",
              "    <tr>\n",
              "      <th>1</th>\n",
              "      <td>6.3</td>\n",
              "      <td>0.30</td>\n",
              "      <td>0.34</td>\n",
              "      <td>1.6</td>\n",
              "      <td>0.049</td>\n",
              "      <td>14.0</td>\n",
              "      <td>132.0</td>\n",
              "      <td>0.9940</td>\n",
              "      <td>3.30</td>\n",
              "      <td>0.49</td>\n",
              "      <td>9.5</td>\n",
              "    </tr>\n",
              "    <tr>\n",
              "      <th>2</th>\n",
              "      <td>8.1</td>\n",
              "      <td>0.28</td>\n",
              "      <td>0.40</td>\n",
              "      <td>6.9</td>\n",
              "      <td>0.050</td>\n",
              "      <td>30.0</td>\n",
              "      <td>97.0</td>\n",
              "      <td>0.9951</td>\n",
              "      <td>3.26</td>\n",
              "      <td>0.44</td>\n",
              "      <td>10.1</td>\n",
              "    </tr>\n",
              "    <tr>\n",
              "      <th>3</th>\n",
              "      <td>7.2</td>\n",
              "      <td>0.23</td>\n",
              "      <td>0.32</td>\n",
              "      <td>8.5</td>\n",
              "      <td>0.058</td>\n",
              "      <td>47.0</td>\n",
              "      <td>186.0</td>\n",
              "      <td>0.9956</td>\n",
              "      <td>3.19</td>\n",
              "      <td>0.40</td>\n",
              "      <td>9.9</td>\n",
              "    </tr>\n",
              "    <tr>\n",
              "      <th>4</th>\n",
              "      <td>7.2</td>\n",
              "      <td>0.23</td>\n",
              "      <td>0.32</td>\n",
              "      <td>8.5</td>\n",
              "      <td>0.058</td>\n",
              "      <td>47.0</td>\n",
              "      <td>186.0</td>\n",
              "      <td>0.9956</td>\n",
              "      <td>3.19</td>\n",
              "      <td>0.40</td>\n",
              "      <td>9.9</td>\n",
              "    </tr>\n",
              "    <tr>\n",
              "      <th>5</th>\n",
              "      <td>8.1</td>\n",
              "      <td>0.28</td>\n",
              "      <td>0.40</td>\n",
              "      <td>6.9</td>\n",
              "      <td>0.050</td>\n",
              "      <td>30.0</td>\n",
              "      <td>97.0</td>\n",
              "      <td>0.9951</td>\n",
              "      <td>3.26</td>\n",
              "      <td>0.44</td>\n",
              "      <td>10.1</td>\n",
              "    </tr>\n",
              "    <tr>\n",
              "      <th>6</th>\n",
              "      <td>6.2</td>\n",
              "      <td>0.32</td>\n",
              "      <td>0.16</td>\n",
              "      <td>7.0</td>\n",
              "      <td>0.045</td>\n",
              "      <td>30.0</td>\n",
              "      <td>136.0</td>\n",
              "      <td>0.9949</td>\n",
              "      <td>3.18</td>\n",
              "      <td>0.47</td>\n",
              "      <td>9.6</td>\n",
              "    </tr>\n",
              "    <tr>\n",
              "      <th>7</th>\n",
              "      <td>7.0</td>\n",
              "      <td>0.27</td>\n",
              "      <td>0.36</td>\n",
              "      <td>20.7</td>\n",
              "      <td>0.045</td>\n",
              "      <td>45.0</td>\n",
              "      <td>170.0</td>\n",
              "      <td>1.0010</td>\n",
              "      <td>3.00</td>\n",
              "      <td>0.45</td>\n",
              "      <td>8.8</td>\n",
              "    </tr>\n",
              "    <tr>\n",
              "      <th>8</th>\n",
              "      <td>6.3</td>\n",
              "      <td>0.30</td>\n",
              "      <td>0.34</td>\n",
              "      <td>1.6</td>\n",
              "      <td>0.049</td>\n",
              "      <td>14.0</td>\n",
              "      <td>132.0</td>\n",
              "      <td>0.9940</td>\n",
              "      <td>3.30</td>\n",
              "      <td>0.49</td>\n",
              "      <td>9.5</td>\n",
              "    </tr>\n",
              "    <tr>\n",
              "      <th>9</th>\n",
              "      <td>8.1</td>\n",
              "      <td>0.22</td>\n",
              "      <td>0.43</td>\n",
              "      <td>1.5</td>\n",
              "      <td>0.044</td>\n",
              "      <td>28.0</td>\n",
              "      <td>129.0</td>\n",
              "      <td>0.9938</td>\n",
              "      <td>3.22</td>\n",
              "      <td>0.45</td>\n",
              "      <td>11.0</td>\n",
              "    </tr>\n",
              "  </tbody>\n",
              "</table>\n",
              "</div>"
            ],
            "text/plain": [
              "   fixed acidity  volatile acidity  citric acid  ...    pH  sulphates  alcohol\n",
              "0            7.0              0.27         0.36  ...  3.00       0.45      8.8\n",
              "1            6.3              0.30         0.34  ...  3.30       0.49      9.5\n",
              "2            8.1              0.28         0.40  ...  3.26       0.44     10.1\n",
              "3            7.2              0.23         0.32  ...  3.19       0.40      9.9\n",
              "4            7.2              0.23         0.32  ...  3.19       0.40      9.9\n",
              "5            8.1              0.28         0.40  ...  3.26       0.44     10.1\n",
              "6            6.2              0.32         0.16  ...  3.18       0.47      9.6\n",
              "7            7.0              0.27         0.36  ...  3.00       0.45      8.8\n",
              "8            6.3              0.30         0.34  ...  3.30       0.49      9.5\n",
              "9            8.1              0.22         0.43  ...  3.22       0.45     11.0\n",
              "\n",
              "[10 rows x 11 columns]"
            ]
          },
          "metadata": {},
          "execution_count": 20
        }
      ]
    },
    {
      "cell_type": "code",
      "metadata": {
        "colab": {
          "base_uri": "https://localhost:8080/"
        },
        "id": "tjJxoupYFZWX",
        "outputId": "33b95829-906b-4b1a-dba2-811dd7fa1eaa"
      },
      "source": [
        "y.head(10)"
      ],
      "execution_count": 21,
      "outputs": [
        {
          "output_type": "execute_result",
          "data": {
            "text/plain": [
              "0    2\n",
              "1    2\n",
              "2    2\n",
              "3    2\n",
              "4    2\n",
              "5    2\n",
              "6    2\n",
              "7    2\n",
              "8    2\n",
              "9    2\n",
              "Name: Reviews, dtype: object"
            ]
          },
          "metadata": {},
          "execution_count": 21
        }
      ]
    },
    {
      "cell_type": "code",
      "metadata": {
        "id": "M0IEPUBfCQDt"
      },
      "source": [
        "from sklearn.preprocessing import StandardScaler\n",
        "sc = StandardScaler()\n",
        "X = sc.fit_transform(X)"
      ],
      "execution_count": 22,
      "outputs": []
    },
    {
      "cell_type": "code",
      "metadata": {
        "colab": {
          "base_uri": "https://localhost:8080/"
        },
        "id": "XutOiaEHCWde",
        "outputId": "f43be9f0-2eec-4402-ccd6-a690c05788aa"
      },
      "source": [
        "#view the scaled features\n",
        "print(X)"
      ],
      "execution_count": 23,
      "outputs": [
        {
          "output_type": "stream",
          "name": "stdout",
          "text": [
            "[[ 1.72096961e-01 -8.17699008e-02  2.13280202e-01 ... -1.24692128e+00\n",
            "  -3.49184257e-01 -1.39315246e+00]\n",
            " [-6.57501128e-01  2.15895632e-01  4.80011213e-02 ...  7.40028640e-01\n",
            "   1.34184656e-03 -8.24275678e-01]\n",
            " [ 1.47575110e+00  1.74519434e-02  5.43838363e-01 ...  4.75101984e-01\n",
            "  -4.36815783e-01 -3.36667007e-01]\n",
            " ...\n",
            " [-4.20473102e-01 -3.79435433e-01 -1.19159198e+00 ... -1.31315295e+00\n",
            "  -2.61552731e-01 -9.05543789e-01]\n",
            " [-1.60561323e+00  1.16673788e-01 -2.82557040e-01 ...  1.00495530e+00\n",
            "  -9.62604939e-01  1.85757201e+00]\n",
            " [-1.01304317e+00 -6.77100966e-01  3.78559282e-01 ...  4.75101984e-01\n",
            "  -1.48839409e+00  1.04489089e+00]]\n"
          ]
        }
      ]
    },
    {
      "cell_type": "code",
      "metadata": {
        "id": "9NuMNEQjCgUU"
      },
      "source": [
        "from sklearn.decomposition import PCA\n",
        "pca = PCA()\n",
        "X_pca = pca.fit_transform(X)"
      ],
      "execution_count": 24,
      "outputs": []
    },
    {
      "cell_type": "code",
      "metadata": {
        "colab": {
          "base_uri": "https://localhost:8080/",
          "height": 592
        },
        "id": "1L7s-tl-CmuS",
        "outputId": "b47d1b02-6982-40e9-cb10-49335f5ce40f"
      },
      "source": [
        "#plot the graph to find the principal components\n",
        "plt.figure(figsize=(10,10))\n",
        "plt.plot(np.cumsum(pca.explained_variance_ratio_), 'ro-')\n",
        "plt.grid()"
      ],
      "execution_count": 25,
      "outputs": [
        {
          "output_type": "display_data",
          "data": {
            "image/png": "[encoded data removed]",
            "text/plain": [
              "<Figure size 720x720 with 1 Axes>"
            ]
          },
          "metadata": {
            "needs_background": "light"
          }
        }
      ]
    },
    {
      "cell_type": "code",
      "metadata": {
        "id": "M8MQbYq_CpqS"
      },
      "source": [
        "#AS per the graph, we can see that 8 principal components attribute for 90% of variation in the data. \n",
        "#we shall pick the first 8 components for our prediction.\n",
        "pca_new = PCA(n_components=8)\n",
        "x_new = pca_new.fit_transform(x)"
      ],
      "execution_count": 26,
      "outputs": []
    },
    {
      "cell_type": "code",
      "metadata": {
        "colab": {
          "base_uri": "https://localhost:8080/"
        },
        "id": "0Pt2V-zOCvQj",
        "outputId": "f535ed80-20d2-4500-9eb3-3cb287a912a5"
      },
      "source": [
        "print(x_new)"
      ],
      "execution_count": 27,
      "outputs": [
        {
          "output_type": "stream",
          "name": "stdout",
          "text": [
            "[[ 3.37327539e+01  1.23828497e+00  1.27752918e+01 ... -1.00475770e-01\n",
            "   1.46143586e-02  7.95722613e-03]\n",
            " [-1.19257997e+01 -1.89575189e+01 -3.85783398e+00 ...  3.16391378e-02\n",
            "   2.58503942e-02 -3.61370423e-02]\n",
            " [-4.12246715e+01  5.73987365e+00  2.46603160e+00 ...  1.71029754e-01\n",
            "  -3.08760462e-02 -8.19099329e-02]\n",
            " ...\n",
            " [-2.79942228e+01  1.98656157e+00 -3.76679051e+00 ... -2.22925208e-01\n",
            "  -7.45031896e-02  9.23658037e-02]\n",
            " [-3.16256228e+01 -7.36798453e+00 -3.85584946e+00 ... -2.74500049e-02\n",
            "  -5.63418277e-03 -1.23184139e-01]\n",
            " [-4.26690900e+01 -2.30113142e+00 -3.60383843e+00 ... -6.61881225e-02\n",
            "   4.93503256e-02 -1.86652178e-01]]\n"
          ]
        }
      ]
    },
    {
      "cell_type": "code",
      "metadata": {
        "id": "ffMunZ8x-3dr"
      },
      "source": [
        "from sklearn.model_selection import train_test_split\n",
        "x_train, x_test, y_train, y_test = train_test_split(x_new, y, test_size = 0.25)"
      ],
      "execution_count": 28,
      "outputs": []
    },
    {
      "cell_type": "code",
      "metadata": {
        "colab": {
          "base_uri": "https://localhost:8080/"
        },
        "id": "sozt-fWDDEZV",
        "outputId": "b0680a49-0829-4b56-e8a5-02f47d759d33"
      },
      "source": [
        "print(x_train.shape)\n",
        "print(y_train.shape)\n",
        "print(x_test.shape)\n",
        "print(y_test.shape)"
      ],
      "execution_count": 29,
      "outputs": [
        {
          "output_type": "stream",
          "name": "stdout",
          "text": [
            "(7347, 8)\n",
            "(7347,)\n",
            "(2449, 8)\n",
            "(2449,)\n"
          ]
        }
      ]
    },
    {
      "cell_type": "markdown",
      "metadata": {
        "id": "aFpdnsMIDL_V"
      },
      "source": [
        "##Proceed with Modelling.\n",
        "We will use the following algorithms \n",
        "1. Logistic Regression\n",
        "2. Decision Trees\n",
        "3. Naive Bayes\n",
        "4. SVM\n",
        "5. Random Forests"
      ]
    },
    {
      "cell_type": "code",
      "metadata": {
        "id": "R5576dKrB_4h"
      },
      "source": [
        "from sklearn.linear_model import LogisticRegression\n",
        "from sklearn.metrics import confusion_matrix, accuracy_score,classification_report\n",
        "lr = LogisticRegression()\n",
        "lr.fit(x_train, y_train)\n",
        "lr_predict = lr.predict(x_test)"
      ],
      "execution_count": 30,
      "outputs": []
    },
    {
      "cell_type": "code",
      "metadata": {
        "colab": {
          "base_uri": "https://localhost:8080/"
        },
        "id": "im3FQZs1CCNa",
        "outputId": "c6477877-11d4-418d-b014-e3976f9b8114"
      },
      "source": [
        "#print confusion matrix and accuracy score\n",
        "lr_conf_matrix = confusion_matrix(y_test, lr_predict)\n",
        "lr_acc_score = accuracy_score(y_test, lr_predict)\n",
        "print(lr_conf_matrix)\n",
        "print(lr_acc_score*100)\n",
        "print(classification_report(y_test,lr_predict))"
      ],
      "execution_count": 31,
      "outputs": [
        {
          "output_type": "stream",
          "name": "stdout",
          "text": [
            "[[  46  453    3]\n",
            " [  32 1318   69]\n",
            " [   0  351  177]]\n",
            "62.92364230298081\n",
            "              precision    recall  f1-score   support\n",
            "\n",
            "           1       0.59      0.09      0.16       502\n",
            "           2       0.62      0.93      0.74      1419\n",
            "           3       0.71      0.34      0.46       528\n",
            "\n",
            "    accuracy                           0.63      2449\n",
            "   macro avg       0.64      0.45      0.45      2449\n",
            "weighted avg       0.63      0.63      0.56      2449\n",
            "\n"
          ]
        }
      ]
    },
    {
      "cell_type": "code",
      "metadata": {
        "colab": {
          "base_uri": "https://localhost:8080/"
        },
        "id": "U-LAYSRxGCkq",
        "outputId": "673a41ae-b5be-49b9-a4c0-c283a582b3fd"
      },
      "source": [
        "y.value_counts()"
      ],
      "execution_count": 32,
      "outputs": [
        {
          "output_type": "execute_result",
          "data": {
            "text/plain": [
              "2    5667\n",
              "3    2120\n",
              "1    2009\n",
              "Name: Reviews, dtype: int64"
            ]
          },
          "metadata": {},
          "execution_count": 32
        }
      ]
    },
    {
      "cell_type": "markdown",
      "metadata": {
        "id": "DgtEPGBHg4Ud"
      },
      "source": [
        "# Balancing dataset"
      ]
    },
    {
      "cell_type": "code",
      "metadata": {
        "id": "tjUjVkXyGPxO"
      },
      "source": [
        "from imblearn.over_sampling import SMOTE\n",
        "smote = SMOTE()"
      ],
      "execution_count": 39,
      "outputs": []
    },
    {
      "cell_type": "code",
      "metadata": {
        "id": "uVnO4aO9-_O7"
      },
      "source": [
        "x_train_smote,y_train_smote = smote.fit_sample(x_train, y_train)"
      ],
      "execution_count": 40,
      "outputs": []
    },
    {
      "cell_type": "code",
      "metadata": {
        "colab": {
          "base_uri": "https://localhost:8080/"
        },
        "id": "pG0Z8o_O-_X0",
        "outputId": "c2990fae-47f4-43b7-acd2-4cf2087061cc"
      },
      "source": [
        "from collections import Counter\n",
        "print('Before smote:',Counter(y_train))\n",
        "print('After smote:',Counter(y_train_smote))"
      ],
      "execution_count": 42,
      "outputs": [
        {
          "output_type": "stream",
          "name": "stdout",
          "text": [
            "Before smote: Counter({'2': 4248, '3': 1592, '1': 1507})\n",
            "After smote: Counter({'2': 4248, '1': 4248, '3': 4248})\n"
          ]
        }
      ]
    },
    {
      "cell_type": "markdown",
      "metadata": {
        "id": "xuYRSLYzAjGH"
      },
      "source": [
        "Proceed with Modelling.\n",
        "We will use the following algorithms \n",
        "1. Logistic Regression\n",
        "2. Decision Trees\n",
        "3. Naive Bayes\n",
        "4. SVM\n",
        "5. Random Forests"
      ]
    },
    {
      "cell_type": "code",
      "metadata": {
        "id": "uXYGXT8t-_az"
      },
      "source": [
        "from sklearn.linear_model import LogisticRegression\n",
        "from sklearn.metrics import confusion_matrix, accuracy_score,classification_report\n",
        "lr = LogisticRegression()\n",
        "lr.fit(x_train_smote, y_train_smote)\n",
        "lr_predict = lr.predict(x_test)"
      ],
      "execution_count": 43,
      "outputs": []
    },
    {
      "cell_type": "code",
      "metadata": {
        "colab": {
          "base_uri": "https://localhost:8080/"
        },
        "id": "oRYQJif5--lu",
        "outputId": "8ea144a0-dc0c-4b08-97cf-453abf326b79"
      },
      "source": [
        "#print confusion matrix and accuracy score\n",
        "lr_conf_matrix = confusion_matrix(y_test, lr_predict)\n",
        "lr_acc_score = accuracy_score(y_test, lr_predict)\n",
        "print(lr_conf_matrix)\n",
        "print(lr_acc_score*100)\n",
        "print(classification_report(y_test,lr_predict))"
      ],
      "execution_count": 44,
      "outputs": [
        {
          "output_type": "stream",
          "name": "stdout",
          "text": [
            "[[338 100  64]\n",
            " [607 349 463]\n",
            " [ 67  64 397]]\n",
            "44.26296447529604\n",
            "              precision    recall  f1-score   support\n",
            "\n",
            "           1       0.33      0.67      0.45       502\n",
            "           2       0.68      0.25      0.36      1419\n",
            "           3       0.43      0.75      0.55       528\n",
            "\n",
            "    accuracy                           0.44      2449\n",
            "   macro avg       0.48      0.56      0.45      2449\n",
            "weighted avg       0.56      0.44      0.42      2449\n",
            "\n"
          ]
        }
      ]
    },
    {
      "cell_type": "markdown",
      "metadata": {
        "id": "EK7FHqBFA0U0"
      },
      "source": [
        "44% accuracy with Logistic Regression! Let's see with Decision Trees"
      ]
    },
    {
      "cell_type": "code",
      "metadata": {
        "id": "UYm-K5aM--zY"
      },
      "source": [
        "from sklearn.tree import DecisionTreeClassifier\n",
        "dt = DecisionTreeClassifier()\n",
        "dt.fit(x_train_smote,y_train_smote)\n",
        "dt_predict = dt.predict(x_test)"
      ],
      "execution_count": 47,
      "outputs": []
    },
    {
      "cell_type": "code",
      "metadata": {
        "colab": {
          "base_uri": "https://localhost:8080/"
        },
        "id": "VsAvKSHcGd3i",
        "outputId": "d93e8c8c-29e0-49c1-e1bd-f74f659e54e4"
      },
      "source": [
        "#print confusion matrix and accuracy score\n",
        "dt_conf_matrix = confusion_matrix(y_test, dt_predict)\n",
        "dt_acc_score = accuracy_score(y_test, dt_predict)\n",
        "print(dt_conf_matrix)\n",
        "print(dt_acc_score*100)\n",
        "print(classification_report(y_test,dt_predict))"
      ],
      "execution_count": 48,
      "outputs": [
        {
          "output_type": "stream",
          "name": "stdout",
          "text": [
            "[[ 251  243    8]\n",
            " [ 372 1003   44]\n",
            " [  14   32  482]]\n",
            "70.88607594936708\n",
            "              precision    recall  f1-score   support\n",
            "\n",
            "           1       0.39      0.50      0.44       502\n",
            "           2       0.78      0.71      0.74      1419\n",
            "           3       0.90      0.91      0.91       528\n",
            "\n",
            "    accuracy                           0.71      2449\n",
            "   macro avg       0.69      0.71      0.70      2449\n",
            "weighted avg       0.73      0.71      0.72      2449\n",
            "\n"
          ]
        }
      ]
    },
    {
      "cell_type": "markdown",
      "metadata": {
        "id": "8UpllvcoBB9i"
      },
      "source": [
        "71% accuracy with Decision tree! Let's Use NaiveBayes"
      ]
    },
    {
      "cell_type": "code",
      "metadata": {
        "id": "BSagga2WA69A"
      },
      "source": [
        "from sklearn.naive_bayes import GaussianNB\n",
        "nb = GaussianNB()\n",
        "nb.fit(x_train_smote,y_train_smote)\n",
        "nb_predict=nb.predict(x_test)"
      ],
      "execution_count": 49,
      "outputs": []
    },
    {
      "cell_type": "code",
      "metadata": {
        "colab": {
          "base_uri": "https://localhost:8080/"
        },
        "id": "BpvrgDsLBHY-",
        "outputId": "254d9370-670d-489f-ee30-4a2fb6c6abd9"
      },
      "source": [
        "#print confusion matrix and accuracy score\n",
        "nb_conf_matrix = confusion_matrix(y_test, nb_predict)\n",
        "nb_acc_score = accuracy_score(y_test, nb_predict)\n",
        "print(nb_conf_matrix)\n",
        "print(nb_acc_score*100)\n",
        "print(classification_report(y_test,nb_predict))"
      ],
      "execution_count": 50,
      "outputs": [
        {
          "output_type": "stream",
          "name": "stdout",
          "text": [
            "[[343 107  52]\n",
            " [632 324 463]\n",
            " [ 77  58 393]]\n",
            "43.28297264189465\n",
            "              precision    recall  f1-score   support\n",
            "\n",
            "           1       0.33      0.68      0.44       502\n",
            "           2       0.66      0.23      0.34      1419\n",
            "           3       0.43      0.74      0.55       528\n",
            "\n",
            "    accuracy                           0.43      2449\n",
            "   macro avg       0.47      0.55      0.44      2449\n",
            "weighted avg       0.54      0.43      0.41      2449\n",
            "\n"
          ]
        }
      ]
    },
    {
      "cell_type": "markdown",
      "metadata": {
        "id": "e68_gyQmBQKD"
      },
      "source": [
        "43% accuracy with naive bayes!Let's use RandomForest classifier now"
      ]
    },
    {
      "cell_type": "code",
      "metadata": {
        "id": "bgD4Uom7BJVl"
      },
      "source": [
        "from sklearn.ensemble import RandomForestClassifier\n",
        "rf = RandomForestClassifier()\n",
        "rf.fit(x_train_smote, y_train_smote)\n",
        "rf_predict=rf.predict(x_test)"
      ],
      "execution_count": 52,
      "outputs": []
    },
    {
      "cell_type": "code",
      "metadata": {
        "colab": {
          "base_uri": "https://localhost:8080/"
        },
        "id": "I8H3oYcDBN_h",
        "outputId": "08463a8d-2c73-47cf-ac42-a3b8f7bb2baa"
      },
      "source": [
        "#print confusion matrix and accuracy score\n",
        "rf_conf_matrix = confusion_matrix(y_test, rf_predict)\n",
        "rf_acc_score = accuracy_score(y_test, rf_predict)\n",
        "print(rf_conf_matrix)\n",
        "print(rf_acc_score*100)\n",
        "print(classification_report(y_test,rf_predict))"
      ],
      "execution_count": 53,
      "outputs": [
        {
          "output_type": "stream",
          "name": "stdout",
          "text": [
            "[[ 233  267    2]\n",
            " [ 336 1051   32]\n",
            " [  10   42  476]]\n",
            "71.86606778276847\n",
            "              precision    recall  f1-score   support\n",
            "\n",
            "           1       0.40      0.46      0.43       502\n",
            "           2       0.77      0.74      0.76      1419\n",
            "           3       0.93      0.90      0.92       528\n",
            "\n",
            "    accuracy                           0.72      2449\n",
            "   macro avg       0.70      0.70      0.70      2449\n",
            "weighted avg       0.73      0.72      0.72      2449\n",
            "\n"
          ]
        }
      ]
    },
    {
      "cell_type": "markdown",
      "metadata": {
        "id": "BJKNNe55Bbwu"
      },
      "source": [
        "72% accuracy with Random forest"
      ]
    },
    {
      "cell_type": "code",
      "metadata": {
        "id": "-PQELv2MBYle"
      },
      "source": [
        "from sklearn.svm import SVC"
      ],
      "execution_count": 54,
      "outputs": []
    },
    {
      "cell_type": "code",
      "metadata": {
        "id": "w5ngI_MHBfbL"
      },
      "source": [
        "#we shall use the rbf kernel first and check the accuracy\n",
        "svc = SVC()\n",
        "svc.fit(x_train_smote, y_train_smote)\n",
        "svc_predict=rf.predict(x_test)"
      ],
      "execution_count": 56,
      "outputs": []
    },
    {
      "cell_type": "code",
      "metadata": {
        "colab": {
          "base_uri": "https://localhost:8080/"
        },
        "id": "6hOSMcIKBjVN",
        "outputId": "bf0c6eed-4762-4014-f384-ba2d13cec5ed"
      },
      "source": [
        "#print confusion matrix and accuracy score\n",
        "svc_conf_matrix = confusion_matrix(y_test, rf_predict)\n",
        "svc_acc_score = accuracy_score(y_test, rf_predict)\n",
        "print(svc_conf_matrix)\n",
        "print(svc_acc_score*100)\n",
        "print(classification_report(y_test,svc_predict))"
      ],
      "execution_count": 57,
      "outputs": [
        {
          "output_type": "stream",
          "name": "stdout",
          "text": [
            "[[ 233  267    2]\n",
            " [ 336 1051   32]\n",
            " [  10   42  476]]\n",
            "71.86606778276847\n",
            "              precision    recall  f1-score   support\n",
            "\n",
            "           1       0.40      0.46      0.43       502\n",
            "           2       0.77      0.74      0.76      1419\n",
            "           3       0.93      0.90      0.92       528\n",
            "\n",
            "    accuracy                           0.72      2449\n",
            "   macro avg       0.70      0.70      0.70      2449\n",
            "weighted avg       0.73      0.72      0.72      2449\n",
            "\n"
          ]
        }
      ]
    },
    {
      "cell_type": "markdown",
      "metadata": {
        "id": "LGplGykmB2m_"
      },
      "source": [
        "72% accuracy with svc! Let's try with hyperparameter"
      ]
    },
    {
      "cell_type": "markdown",
      "metadata": {
        "id": "Xmh_j8oFB9fG"
      },
      "source": [
        "The same accuracy! So we can see that the SVC and the Random Forest give us good prediction accuracy for the Wine Classification problem."
      ]
    },
    {
      "cell_type": "code",
      "metadata": {
        "id": "_c49rBgyBxaS"
      },
      "source": [
        "#hyperparameter tuning"
      ],
      "execution_count": 58,
      "outputs": []
    },
    {
      "cell_type": "code",
      "metadata": {
        "colab": {
          "base_uri": "https://localhost:8080/"
        },
        "id": "22sBhtR9B_vd",
        "outputId": "43a84b6e-5b28-432a-a0a6-4ce056de3ace"
      },
      "source": [
        "import numpy as np\n",
        "from sklearn.model_selection import RandomizedSearchCV\n",
        "# Number of trees in random forest\n",
        "n_estimators = [int(x) for x in np.linspace(start = 200, stop = 2000, num = 10)]\n",
        "# Number of features to consider at every split\n",
        "max_features = ['auto', 'sqrt','log2']\n",
        "# Maximum number of levels in tree\n",
        "max_depth = [int(x) for x in np.linspace(10, 1000,10)]\n",
        "# Minimum number of samples required to split a node\n",
        "min_samples_split = [2, 5, 10,14]\n",
        "# Minimum number of samples required at each leaf node\n",
        "min_samples_leaf = [1, 2, 4,6,8]\n",
        "# Create the random grid\n",
        "random_grid = {'n_estimators': n_estimators,\n",
        "               'max_features': max_features,\n",
        "               'max_depth': max_depth,\n",
        "               'min_samples_split': min_samples_split,\n",
        "               'min_samples_leaf': min_samples_leaf,\n",
        "              'criterion':['entropy','gini']}\n",
        "print(random_grid)"
      ],
      "execution_count": 59,
      "outputs": [
        {
          "output_type": "stream",
          "name": "stdout",
          "text": [
            "{'n_estimators': [200, 400, 600, 800, 1000, 1200, 1400, 1600, 1800, 2000], 'max_features': ['auto', 'sqrt', 'log2'], 'max_depth': [10, 120, 230, 340, 450, 560, 670, 780, 890, 1000], 'min_samples_split': [2, 5, 10, 14], 'min_samples_leaf': [1, 2, 4, 6, 8], 'criterion': ['entropy', 'gini']}\n"
          ]
        }
      ]
    },
    {
      "cell_type": "code",
      "metadata": {
        "colab": {
          "base_uri": "https://localhost:8080/"
        },
        "id": "v3VamiBJCCeF",
        "outputId": "7eeb3234-c86e-4ac9-a03b-1a43dd97ee59"
      },
      "source": [
        "rf=RandomForestClassifier()\n",
        "rf_randomcv=RandomizedSearchCV(estimator=rf,param_distributions=random_grid,n_iter=100,cv=3,verbose=2,\n",
        "                               random_state=100,n_jobs=-1)\n",
        "### fit the randomized model\n",
        "rf_randomcv.fit(x_train,y_train)"
      ],
      "execution_count": 60,
      "outputs": [
        {
          "output_type": "stream",
          "name": "stdout",
          "text": [
            "Fitting 3 folds for each of 100 candidates, totalling 300 fits\n"
          ]
        },
        {
          "output_type": "stream",
          "name": "stderr",
          "text": [
            "[Parallel(n_jobs=-1)]: Using backend LokyBackend with 2 concurrent workers.\n",
            "[Parallel(n_jobs=-1)]: Done  37 tasks      | elapsed:  7.5min\n",
            "[Parallel(n_jobs=-1)]: Done 158 tasks      | elapsed: 33.2min\n",
            "[Parallel(n_jobs=-1)]: Done 300 out of 300 | elapsed: 63.5min finished\n"
          ]
        },
        {
          "output_type": "execute_result",
          "data": {
            "text/plain": [
              "RandomizedSearchCV(cv=3, error_score=nan,\n",
              "                   estimator=RandomForestClassifier(bootstrap=True,\n",
              "                                                    ccp_alpha=0.0,\n",
              "                                                    class_weight=None,\n",
              "                                                    criterion='gini',\n",
              "                                                    max_depth=None,\n",
              "                                                    max_features='auto',\n",
              "                                                    max_leaf_nodes=None,\n",
              "                                                    max_samples=None,\n",
              "                                                    min_impurity_decrease=0.0,\n",
              "                                                    min_impurity_split=None,\n",
              "                                                    min_samples_leaf=1,\n",
              "                                                    min_samples_split=2,\n",
              "                                                    min_weight_fraction_leaf=0.0,\n",
              "                                                    n_estimators=100,\n",
              "                                                    n_jobs...\n",
              "                   param_distributions={'criterion': ['entropy', 'gini'],\n",
              "                                        'max_depth': [10, 120, 230, 340, 450,\n",
              "                                                      560, 670, 780, 890,\n",
              "                                                      1000],\n",
              "                                        'max_features': ['auto', 'sqrt',\n",
              "                                                         'log2'],\n",
              "                                        'min_samples_leaf': [1, 2, 4, 6, 8],\n",
              "                                        'min_samples_split': [2, 5, 10, 14],\n",
              "                                        'n_estimators': [200, 400, 600, 800,\n",
              "                                                         1000, 1200, 1400, 1600,\n",
              "                                                         1800, 2000]},\n",
              "                   pre_dispatch='2*n_jobs', random_state=100, refit=True,\n",
              "                   return_train_score=False, scoring=None, verbose=2)"
            ]
          },
          "metadata": {},
          "execution_count": 60
        }
      ]
    },
    {
      "cell_type": "code",
      "metadata": {
        "colab": {
          "base_uri": "https://localhost:8080/"
        },
        "id": "CtxDykWECES3",
        "outputId": "a3236569-a824-4e98-a926-6ef21e98c26b"
      },
      "source": [
        "rf_randomcv.best_params_"
      ],
      "execution_count": 61,
      "outputs": [
        {
          "output_type": "execute_result",
          "data": {
            "text/plain": [
              "{'criterion': 'gini',\n",
              " 'max_depth': 780,\n",
              " 'max_features': 'sqrt',\n",
              " 'min_samples_leaf': 1,\n",
              " 'min_samples_split': 5,\n",
              " 'n_estimators': 600}"
            ]
          },
          "metadata": {},
          "execution_count": 61
        }
      ]
    },
    {
      "cell_type": "code",
      "metadata": {
        "colab": {
          "base_uri": "https://localhost:8080/"
        },
        "id": "rUN-E4h_Rd6o",
        "outputId": "115d6c0c-e659-4d36-b842-2d508db378b7"
      },
      "source": [
        "rf_randomcv"
      ],
      "execution_count": 62,
      "outputs": [
        {
          "output_type": "execute_result",
          "data": {
            "text/plain": [
              "RandomizedSearchCV(cv=3, error_score=nan,\n",
              "                   estimator=RandomForestClassifier(bootstrap=True,\n",
              "                                                    ccp_alpha=0.0,\n",
              "                                                    class_weight=None,\n",
              "                                                    criterion='gini',\n",
              "                                                    max_depth=None,\n",
              "                                                    max_features='auto',\n",
              "                                                    max_leaf_nodes=None,\n",
              "                                                    max_samples=None,\n",
              "                                                    min_impurity_decrease=0.0,\n",
              "                                                    min_impurity_split=None,\n",
              "                                                    min_samples_leaf=1,\n",
              "                                                    min_samples_split=2,\n",
              "                                                    min_weight_fraction_leaf=0.0,\n",
              "                                                    n_estimators=100,\n",
              "                                                    n_jobs...\n",
              "                   param_distributions={'criterion': ['entropy', 'gini'],\n",
              "                                        'max_depth': [10, 120, 230, 340, 450,\n",
              "                                                      560, 670, 780, 890,\n",
              "                                                      1000],\n",
              "                                        'max_features': ['auto', 'sqrt',\n",
              "                                                         'log2'],\n",
              "                                        'min_samples_leaf': [1, 2, 4, 6, 8],\n",
              "                                        'min_samples_split': [2, 5, 10, 14],\n",
              "                                        'n_estimators': [200, 400, 600, 800,\n",
              "                                                         1000, 1200, 1400, 1600,\n",
              "                                                         1800, 2000]},\n",
              "                   pre_dispatch='2*n_jobs', random_state=100, refit=True,\n",
              "                   return_train_score=False, scoring=None, verbose=2)"
            ]
          },
          "metadata": {},
          "execution_count": 62
        }
      ]
    },
    {
      "cell_type": "code",
      "metadata": {
        "id": "v4B4mLpwRfmm"
      },
      "source": [
        "best_random_grid=rf_randomcv.best_estimator_"
      ],
      "execution_count": 63,
      "outputs": []
    },
    {
      "cell_type": "code",
      "metadata": {
        "colab": {
          "base_uri": "https://localhost:8080/"
        },
        "id": "TKvcMz52Rh3D",
        "outputId": "e72fc3a3-fbd4-453c-d743-0ac3f57c9607"
      },
      "source": [
        "from sklearn.metrics import accuracy_score\n",
        "y_pred=best_random_grid.predict(x_test)\n",
        "print(confusion_matrix(y_test,y_pred))\n",
        "print(\"Accuracy Score {}\".format(accuracy_score(y_test,y_pred)))\n",
        "print(\"classification_report {}\".format(classification_report(y_test,y_pred)))"
      ],
      "execution_count": 64,
      "outputs": [
        {
          "output_type": "stream",
          "name": "stdout",
          "text": [
            "[[ 188  314    0]\n",
            " [ 263 1146   10]\n",
            " [   0   64  464]]\n",
            "Accuracy Score 0.7341772151898734\n",
            "classification_report               precision    recall  f1-score   support\n",
            "\n",
            "           1       0.42      0.37      0.39       502\n",
            "           2       0.75      0.81      0.78      1419\n",
            "           3       0.98      0.88      0.93       528\n",
            "\n",
            "    accuracy                           0.73      2449\n",
            "   macro avg       0.72      0.69      0.70      2449\n",
            "weighted avg       0.73      0.73      0.73      2449\n",
            "\n"
          ]
        }
      ]
    },
    {
      "cell_type": "markdown",
      "metadata": {
        "id": "Sr5zkdIpRxLv"
      },
      "source": [
        "we can observed that accuracy has been increased from 72% to 73% with hyperparameter tunning in Random Forest!"
      ]
    }
  ]
}